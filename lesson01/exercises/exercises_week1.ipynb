{
 "cells": [
  {
   "cell_type": "markdown",
   "id": "8875d078",
   "metadata": {},
   "source": [
    "# Exercises week 1"
   ]
  },
  {
   "cell_type": "markdown",
   "id": "462babd8",
   "metadata": {},
   "source": [
    "## Beginner exercises"
   ]
  },
  {
   "cell_type": "markdown",
   "id": "4fa0687c",
   "metadata": {},
   "source": [
    "**Ex 1**: In the cell below, write a short text that demonstrates that you can\n",
    "* Create a section with a heading\n",
    "* Write words in bold and italics\n",
    "* Establish a [hyperlink](https://en.wikipedia.org/wiki/Hyperlink)"
   ]
  },
  {
   "cell_type": "markdown",
   "id": "f53a49a6",
   "metadata": {},
   "source": [
    "**Ex 2** Calculate the remainder of the division of 18 by 7. "
   ]
  },
  {
   "cell_type": "code",
   "execution_count": 7,
   "id": "0957fcc6",
   "metadata": {},
   "outputs": [
    {
     "data": {
      "text/plain": [
       "4"
      ]
     },
     "execution_count": 7,
     "metadata": {},
     "output_type": "execute_result"
    }
   ],
   "source": [
    "round(4.5 + 1e-20)"
   ]
  },
  {
   "cell_type": "markdown",
   "id": "eadaff68",
   "metadata": {},
   "source": [
    "**Ex 3** Calcuate 3 to the power of 4; i.e. $3^4$"
   ]
  },
  {
   "cell_type": "code",
   "execution_count": null,
   "id": "19ba1128",
   "metadata": {},
   "outputs": [],
   "source": []
  },
  {
   "cell_type": "markdown",
   "id": "fd018381",
   "metadata": {},
   "source": [
    "**Ex 4** Calculate the square root of 49"
   ]
  },
  {
   "cell_type": "code",
   "execution_count": null,
   "id": "42f974a1",
   "metadata": {},
   "outputs": [],
   "source": []
  },
  {
   "cell_type": "markdown",
   "id": "984f96a4",
   "metadata": {},
   "source": [
    "**Ex 5** Convert the following string to a float and round it to the nearest 3 digits after the decimal"
   ]
  },
  {
   "cell_type": "code",
   "execution_count": 148,
   "id": "f6492e2a",
   "metadata": {},
   "outputs": [],
   "source": [
    "pi = \"3.14159265\""
   ]
  },
  {
   "cell_type": "markdown",
   "id": "0c7ddc37",
   "metadata": {},
   "source": [
    "**Ex 6** **Convert** the variable number=4.9 to an integer"
   ]
  },
  {
   "cell_type": "code",
   "execution_count": null,
   "id": "4cc0ad5d",
   "metadata": {},
   "outputs": [],
   "source": []
  },
  {
   "cell_type": "markdown",
   "id": "0124b2bb",
   "metadata": {},
   "source": [
    "**Ex 7** Now round number=4.9 to the **nearest** integer. What is the difference between the converted number of the previous exercise and this exercise?"
   ]
  },
  {
   "cell_type": "code",
   "execution_count": null,
   "id": "c5544847",
   "metadata": {},
   "outputs": [],
   "source": []
  },
  {
   "cell_type": "markdown",
   "id": "3d630198",
   "metadata": {},
   "source": [
    "**Ex 8** Calculate the length of the following list (i.e. how many names are in the list) and print each of its values separated by a newline. The output of the print statement(s) should look like this: \\\n",
    "\\\n",
    "Miriam \\\n",
    "Tim \\\n",
    "Jing \\\n",
    "..."
   ]
  },
  {
   "cell_type": "code",
   "execution_count": 149,
   "id": "d9bc011b",
   "metadata": {},
   "outputs": [],
   "source": [
    "names = [\"Miriam\", \"Tim\", \"Jing\", \"Carlos\", \"Ruben\", \"Ashley\"]"
   ]
  },
  {
   "cell_type": "markdown",
   "id": "6b1623da",
   "metadata": {},
   "source": [
    "**Ex 9** Add a list with the following new names to the previous list \\\n",
    "new_names = [\"Pablo\", \"Lise\"]"
   ]
  },
  {
   "cell_type": "code",
   "execution_count": null,
   "id": "f84d67c0",
   "metadata": {},
   "outputs": [],
   "source": []
  },
  {
   "cell_type": "markdown",
   "id": "1a40eea2",
   "metadata": {},
   "source": [
    "**Ex 10** Print the second and second to last name of the newly created list. The output should be Tim and Pablo"
   ]
  },
  {
   "cell_type": "code",
   "execution_count": null,
   "id": "76efbbe0",
   "metadata": {},
   "outputs": [],
   "source": []
  },
  {
   "cell_type": "markdown",
   "id": "9d27c9de",
   "metadata": {},
   "source": [
    "**Ex 11** Calculate the sum and the average of the value in the following list"
   ]
  },
  {
   "cell_type": "code",
   "execution_count": 150,
   "id": "f293f1e5",
   "metadata": {},
   "outputs": [],
   "source": [
    "age = [11, 22, 33, 44, 22, 55]"
   ]
  },
  {
   "cell_type": "markdown",
   "id": "31e23cd8",
   "metadata": {},
   "source": [
    "**Ex 12** Sort the age list in an ascending (increasing) order and get the count of the number 22 within the list (i.e; calculate how often the number 22 appears in the age list"
   ]
  },
  {
   "cell_type": "code",
   "execution_count": null,
   "id": "7ccf2bd3",
   "metadata": {},
   "outputs": [],
   "source": []
  },
  {
   "cell_type": "markdown",
   "id": "3429f734",
   "metadata": {},
   "source": [
    "**Ex 13** Write a function to calculate the sum of three given numbers, if the values are equal then return three times of their sum."
   ]
  },
  {
   "cell_type": "code",
   "execution_count": null,
   "id": "50bdac4e",
   "metadata": {},
   "outputs": [],
   "source": []
  },
  {
   "cell_type": "markdown",
   "id": "a4349def",
   "metadata": {},
   "source": [
    "**Ex 14** Write a function to check if a value is within the following list. The output should look like this:\\\n",
    "Miriam was found in the list\\\n",
    "Peter was not found in the list"
   ]
  },
  {
   "cell_type": "code",
   "execution_count": 151,
   "id": "8522eb2c",
   "metadata": {},
   "outputs": [],
   "source": [
    "names = [\"Miriam\", \"Tim\", \"Jing\", \"Carlos\", \"Ruben\", \"Ashley\"]"
   ]
  },
  {
   "cell_type": "markdown",
   "id": "b8622b02",
   "metadata": {},
   "source": [
    "**Ex 15** Write a function that will accept the base and height of a triangle and compute the area. The area of a triangle is calculate as Area= 0.5 * height * base"
   ]
  },
  {
   "cell_type": "code",
   "execution_count": null,
   "id": "370596aa",
   "metadata": {},
   "outputs": [],
   "source": []
  },
  {
   "cell_type": "markdown",
   "id": "ce3c59bc",
   "metadata": {},
   "source": [
    "## Intermediate exercises"
   ]
  },
  {
   "cell_type": "markdown",
   "id": "73b4d67d",
   "metadata": {},
   "source": [
    "**Ex1** Print **only** the strings within the following list. Use the isinstance function to compare the type of a variable against its expected type"
   ]
  },
  {
   "cell_type": "code",
   "execution_count": 152,
   "id": "9ff029fd",
   "metadata": {},
   "outputs": [],
   "source": [
    "students = [\"Miriam\", 22, \"Tim\", 25, \"Jing\", 28, \"Carlos\"]"
   ]
  },
  {
   "cell_type": "markdown",
   "id": "7069b1c4",
   "metadata": {},
   "source": [
    "**Ex 2** For the following two lists, print the student name followed by their age. HINT: use the zip function"
   ]
  },
  {
   "cell_type": "code",
   "execution_count": 153,
   "id": "393ae62a",
   "metadata": {},
   "outputs": [],
   "source": [
    "names = [\"Miriam\", \"Tim\", \"Jing\", \"Carlos\", \"Ruben\", \"Ashley\"]\n",
    "ages =  [25, 22, 24, 33, 22, 21, 20]"
   ]
  },
  {
   "cell_type": "markdown",
   "id": "f7ac76bc",
   "metadata": {},
   "source": [
    "**Ex 3** Create a dictionary which keys are the names of the students and the corresponding values are their age. The dictionary should look like this \\\n",
    "{'Miriam': 25, 'Tim': 22, 'Jing': 24, 'Carlos': 33, 'Ruben': 22, 'Ashley': 21}"
   ]
  },
  {
   "cell_type": "code",
   "execution_count": null,
   "id": "9caf1170",
   "metadata": {},
   "outputs": [],
   "source": []
  },
  {
   "cell_type": "markdown",
   "id": "ff191674",
   "metadata": {},
   "source": [
    "**Ex 4** Create a nested dictionary to assign to each student their age and grade. The output should look like this \\\n",
    "{'Miriam': {'age': 25, 'grade': 12},\n",
    " 'Tim': {'age': 22, 'grade': 12},\n",
    " 'Jing': {'age': 24, 'grade': 12},\n",
    " 'Carlos': {'age': 33, 'grade': 10},\n",
    " 'Ruben': {'age': 22, 'grade': 7},\n",
    " 'Ashley': {'age': 21, 'grade': 10}}"
   ]
  },
  {
   "cell_type": "code",
   "execution_count": 154,
   "id": "dca35d25",
   "metadata": {},
   "outputs": [],
   "source": [
    "grades = [12, 12, 12, 10, 7, 10]"
   ]
  },
  {
   "cell_type": "markdown",
   "id": "dbb8226d",
   "metadata": {},
   "source": [
    "**Ex 5** Miriam decided to drop out of the class. Remove her entry in the students dictionary."
   ]
  },
  {
   "cell_type": "code",
   "execution_count": null,
   "id": "2371ff73",
   "metadata": {},
   "outputs": [],
   "source": []
  },
  {
   "cell_type": "markdown",
   "id": "c380999f",
   "metadata": {},
   "source": [
    "**Ex 6** First, generate a sequence of numbers from 1 to 20. Then print **only** the numbers for which the remainder is 0 when being divided by 6. E.g. 12 because 12/6 = 2. The output should be 6, 12 and 18"
   ]
  },
  {
   "cell_type": "code",
   "execution_count": null,
   "id": "e5b3eea8",
   "metadata": {},
   "outputs": [],
   "source": []
  },
  {
   "cell_type": "markdown",
   "id": "75e0d11c",
   "metadata": {},
   "source": [
    "**Ex 7** Generate  \\\n",
    "\"The holidays will begin on: 25/11/1992\"  \\\n",
    "from the following tuple "
   ]
  },
  {
   "cell_type": "code",
   "execution_count": 155,
   "id": "2acf2c7a",
   "metadata": {},
   "outputs": [],
   "source": [
    "date = (25, 11, 1992)"
   ]
  },
  {
   "cell_type": "code",
   "execution_count": null,
   "id": "171cda48",
   "metadata": {},
   "outputs": [],
   "source": []
  },
  {
   "cell_type": "markdown",
   "id": "3eb4b67f",
   "metadata": {},
   "source": [
    "**Ex 8** Write a function to find whether a given number is even or odd, print out an appropriate message."
   ]
  },
  {
   "cell_type": "code",
   "execution_count": null,
   "id": "1742c2ec",
   "metadata": {},
   "outputs": [],
   "source": []
  },
  {
   "cell_type": "markdown",
   "id": "7b126a1c",
   "metadata": {},
   "source": [
    "**Ex 9** Make a program ask for a name, and then write a greeting using that name.\\\n",
    "HINT: use the input function to get the user input (e.g. name=input(\"Write your username\"))\n",
    "\n",
    "\\\n",
    "The output should look similar to this:\\\n",
    "Please type your username Adrian\\\n",
    "Hello Adrian."
   ]
  },
  {
   "cell_type": "code",
   "execution_count": null,
   "id": "5c58158e",
   "metadata": {},
   "outputs": [],
   "source": []
  },
  {
   "cell_type": "markdown",
   "id": "e04b7769",
   "metadata": {},
   "source": [
    "**Ex 10** Ask for two numbers and ask what operation to perform on them (+, - , *, /) and display the numbers and the result. Again, use the input function.\\\n",
    "The output should look like this\n",
    "\n",
    "\\\n",
    "Please type two numbers and a mathematical operator to perform on them. All 3 inputs must be separated by a whitespace 1 1.5 +\\\n",
    "The result is: 2.5\n",
    "\n",
    "\n",
    "Please type two numbers and a mathematical operator to perform on them. All 3 inputs must be separated by a whitespace 2 2 *\\\n",
    "The result is: 4.0"
   ]
  },
  {
   "cell_type": "code",
   "execution_count": null,
   "id": "f03ba6d2",
   "metadata": {},
   "outputs": [],
   "source": []
  },
  {
   "cell_type": "markdown",
   "id": "7bd38f87",
   "metadata": {},
   "source": [
    "**Ex 11** Write a function to calculate the factorial (n!) (e.g. 4! = 4 * 3 * 2 * 1. Perform input control. For example, the input must be a positive integer. Thus, if the input is negative, the function should return an error message. The same applies for inputs with type float or str.\\\n",
    "\n",
    "The output should look like:\\\n",
    "1 = factorial(0)\\\n",
    "1 = factorial(1)\\\n",
    "6 = factorial(3)\\\n",
    "24 = factorial(4)"
   ]
  },
  {
   "cell_type": "code",
   "execution_count": null,
   "id": "01ea43c2",
   "metadata": {},
   "outputs": [],
   "source": []
  },
  {
   "cell_type": "markdown",
   "id": "45d8e0d7",
   "metadata": {},
   "source": [
    "**Ex 12** Write a program (using functions!) that asks the user for a long string containing multiple words. Print back to the user the same string, except with the words in backwards order. For example, say I type the string:\n",
    "\n",
    "  My name is Michele\\\n",
    "Then I would see the string:\n",
    "\n",
    "  Michele is name My\\\n",
    "shown back to me."
   ]
  },
  {
   "cell_type": "code",
   "execution_count": null,
   "id": "2d4bfabf",
   "metadata": {},
   "outputs": [],
   "source": []
  },
  {
   "cell_type": "markdown",
   "id": "4ab61fe0",
   "metadata": {},
   "source": [
    "**Ex 13** Write a small function to check if a string is a Palindrome (https://en.wikipedia.org/wiki/Palindrome)\n",
    "\n",
    "The output could look like this:\n",
    "\n",
    "Tenet is a Palindrome\\\n",
    "China is not Palindrome"
   ]
  },
  {
   "cell_type": "code",
   "execution_count": null,
   "id": "2b7adbcc",
   "metadata": {},
   "outputs": [],
   "source": []
  }
 ],
 "metadata": {
  "kernelspec": {
   "display_name": "Python 3",
   "language": "python",
   "name": "python3"
  },
  "language_info": {
   "codemirror_mode": {
    "name": "ipython",
    "version": 3
   },
   "file_extension": ".py",
   "mimetype": "text/x-python",
   "name": "python",
   "nbconvert_exporter": "python",
   "pygments_lexer": "ipython3",
   "version": "3.9.1"
  }
 },
 "nbformat": 4,
 "nbformat_minor": 5
}
