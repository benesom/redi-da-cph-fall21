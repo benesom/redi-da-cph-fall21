{
 "cells": [
  {
   "cell_type": "markdown",
   "metadata": {
    "slideshow": {
     "slide_type": "notes"
    }
   },
   "source": [
    "**To open this notebook as a slideshow, run this command in the terminal:**\n",
    "```bash\n",
    "jupyter nbconvert Slides_week01.ipynb --to slides --post serve\n",
    "```\n"
   ]
  },
  {
   "cell_type": "markdown",
   "metadata": {
    "slideshow": {
     "slide_type": "slide"
    }
   },
   "source": [
    "# ReDi Data Analytics Fall 2021\n",
    "\n",
    "**WEEK 1 - 14 September 2021**\n"
   ]
  },
  {
   "cell_type": "markdown",
   "metadata": {
    "slideshow": {
     "slide_type": "slide"
    }
   },
   "source": [
    "## TODAY:\n",
    "1. Getting to know each other - check\n",
    "2. The Learning Blocks\n",
    "3. How we work in class, the semester project & homework\n",
    "4. Some words on class culture\n",
    "6. Introduction to Jupyter Notebooks\n",
    "7. Your first exercise and introduction to your first homework"
   ]
  },
  {
   "cell_type": "markdown",
   "metadata": {
    "slideshow": {
     "slide_type": "slide"
    }
   },
   "source": [
    "## The Learning Blocks\n",
    "\n",
    "1. Block : Getting proficient in Python\n",
    "2. Block : Introduction to numpy and pandas\n",
    "3. Block : Exploratory Data Analysis\n",
    "4. Block : Data Visualization\n",
    "5. Block : Work on the semester end project\n",
    "\n",
    "Detailed curriculum will be provided on GitHub.\n"
   ]
  },
  {
   "cell_type": "markdown",
   "metadata": {
    "slideshow": {
     "slide_type": "slide"
    }
   },
   "source": [
    "## How we work\n",
    "* Weekly Lectures and exercises during class\n",
    "* we will divide you into groups of two for the first class, in which we encourage you to do exercises together\n",
    "* Lecture notes & slides are provided in the class repository after class\n",
    "* we try to provide a list of additional resources each week, which is optional and not required to follow the next classes\n",
    "* home work each week (duration varies & depends on your level)\n",
    "* use your free datacamp license, the more you code, the better!\n",
    "* You will work on a semester end project from week 9 which you will present at the end of the class. Info will follow."
   ]
  },
  {
   "cell_type": "markdown",
   "metadata": {
    "slideshow": {
     "slide_type": "slide"
    }
   },
   "source": [
    "## Groups:\n",
    "* Aniza & Riema\n",
    "* Preeti & Sugandh\n",
    "* Bhagwati & Madiha\n",
    "* Priyanka & Anuja\n",
    "* Anna & Jyoti"
   ]
  },
  {
   "cell_type": "markdown",
   "metadata": {
    "slideshow": {
     "slide_type": "slide"
    }
   },
   "source": [
    "## Homework\n",
    "* You will hand in assignments to our homework tool www.eduflow.com every week\n",
    "* Deadline: noon the following Monday \n",
    "* You can (and we encourage you to) work together with your partner or classmates, but everyone should submit their own solution\n",
    "* We will try to give you feedback the day after you handed in your homework, at least generally, but no promises"
   ]
  },
  {
   "cell_type": "markdown",
   "metadata": {
    "slideshow": {
     "slide_type": "slide"
    }
   },
   "source": [
    "## Class Culture\n",
    "\n",
    "* No tech shaming. Different people have different preferences."
   ]
  },
  {
   "cell_type": "markdown",
   "metadata": {
    "slideshow": {
     "slide_type": "subslide"
    }
   },
   "source": [
    "* ALL questions are welcome"
   ]
  },
  {
   "cell_type": "markdown",
   "metadata": {
    "slideshow": {
     "slide_type": "subslide"
    }
   },
   "source": [
    "* We are all learning together. Give feedback to the teachers too.\n",
    "\n",
    "<img src=\"img/programmers_google.jpg\"  width= \"300\"/>"
   ]
  },
  {
   "cell_type": "markdown",
   "metadata": {
    "slideshow": {
     "slide_type": "subslide"
    }
   },
   "source": [
    "* We don't touch your keyboards, but rather help you find the answer."
   ]
  },
  {
   "cell_type": "markdown",
   "metadata": {
    "slideshow": {
     "slide_type": "subslide"
    }
   },
   "source": [
    "* You are responsible for your own learning."
   ]
  },
  {
   "cell_type": "markdown",
   "metadata": {
    "slideshow": {
     "slide_type": "subslide"
    }
   },
   "source": [
    "* Data Analysis is hard for everyone. You will fail and have bad days. \n",
    "**This takes time. Take. The. Time.**\n",
    "\n",
    "<img src=\"img/darwin.jpg\"  width= \"300\"/>"
   ]
  },
  {
   "cell_type": "markdown",
   "metadata": {
    "slideshow": {
     "slide_type": "subslide"
    }
   },
   "source": [
    "* This is a class with mixed previous experience in Computer Science. We will walk through each topic, from the beginning but will also give optional advanced exercises. Don't be discouraged if you can't solve them! "
   ]
  }
 ],
 "metadata": {
  "celltoolbar": "Slideshow",
  "kernelspec": {
   "display_name": "Python 3",
   "language": "python",
   "name": "python3"
  },
  "language_info": {
   "codemirror_mode": {
    "name": "ipython",
    "version": 3
   },
   "file_extension": ".py",
   "mimetype": "text/x-python",
   "name": "python",
   "nbconvert_exporter": "python",
   "pygments_lexer": "ipython3",
   "version": "3.8.9"
  }
 },
 "nbformat": 4,
 "nbformat_minor": 4
}
