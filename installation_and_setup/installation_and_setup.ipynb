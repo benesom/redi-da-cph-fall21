{
 "cells": [
  {
   "cell_type": "markdown",
   "metadata": {
    "slideshow": {
     "slide_type": "subslide"
    }
   },
   "source": [
    "# A Python Installation\n",
    "\n",
    "Likely, the easiest way of installing and configuring Python is via the distribution _Anaconda_.\n",
    "\n",
    "Install Python corresponding to your OS (operating system) from https://www.anaconda.com/download.\n",
    "In case you need help read the installation instructions here: https://docs.anaconda.com/anaconda/install/\n",
    "\n",
    "**OBS:** Make sure you have at least Python version 3.4 installed. You can check your version by typing the following into your terminal/command prompt \n",
    "```bash \n",
    "   python --version\n",
    "    ```\n"
   ]
  },
  {
   "cell_type": "markdown",
   "metadata": {
    "slideshow": {
     "slide_type": "subslide"
    }
   },
   "source": [
    "### Installing Anaconda on Windows.\n",
    "\n",
    "\n",
    "When starting the installation choose the settings as shown below.\n",
    "\n",
    "<img src=\"images/Ana_1.png\" width=\"60%\"/>\n",
    "    \n",
    "\n",
    "#### Adding the Anaconda Programs to your `PATH`\n",
    "\n",
    "In case you have to add the newly installed Anaconda programs to your Windows `PATH` variable do the following:\n",
    "\n",
    "  * Open the `command prompt` as in the image below.\n",
    "  <img src=\"images/komando.png\" width=\"30%\"/>\n",
    "  * In the `command prompt` window type the following:\n",
    "\n",
    "    - **OBS**: Replace the `<your username>` in the pathes below with your username when typing in the command.\n",
    "    - ```bash \n",
    "    $ SETX PATH \"%PATH%;C:/Users/<your username>/Anaconda3/Scripts;C:/Users/<your username>/Anaconda3\"\n",
    "    ```"
   ]
  },
  {
   "cell_type": "markdown",
   "metadata": {
    "slideshow": {
     "slide_type": "subslide"
    }
   },
   "source": [
    "### Testing your Python Installation\n",
    "\n",
    "On the terminal/GitBash try to check the version of Python, which should be something similar to:\n",
    "\n",
    "```bash\n",
    "$ python --version\n",
    "Python 3.7.4 :: Anaconda, Inc.\n",
    "```"
   ]
  }
 ],
 "metadata": {
  "celltoolbar": "Slideshow",
  "kernelspec": {
   "display_name": "Python 3",
   "language": "python",
   "name": "python3"
  },
  "language_info": {
   "codemirror_mode": {
    "name": "ipython",
    "version": 3
   },
   "file_extension": ".py",
   "mimetype": "text/x-python",
   "name": "python",
   "nbconvert_exporter": "python",
   "pygments_lexer": "ipython3",
   "version": "3.7.4"
  }
 },
 "nbformat": 4,
 "nbformat_minor": 2
}
