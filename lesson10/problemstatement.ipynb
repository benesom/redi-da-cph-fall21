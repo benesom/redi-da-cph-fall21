{
 "cells": [
  {
   "cell_type": "markdown",
   "id": "3e96dccc",
   "metadata": {},
   "source": [
    "# How to find your problem statement\n",
    "## Data science is about solving real-life problems, not just showing what you can do in a notebook! Your job is to translate the business questions into something your data can help answering!"
   ]
  },
  {
   "cell_type": "markdown",
   "id": "04db1a9d",
   "metadata": {},
   "source": [
    "### A quick outline"
   ]
  },
  {
   "cell_type": "markdown",
   "id": "f8f862a7",
   "metadata": {},
   "source": [
    "1. If you've already chosen your data set, spend some time writing down the reasons why you chose it. What were you curious about when you found and chose this particular data set? Why are you curious about this subject?\n",
    "2. Keep the data set an arm's length (i.e. don't look at it - the point is that you'll become too focused about what exactly you can do with your data set rather than what insights you hope to gain) and write down questions that arise in your mind when you think about this data set. What insights do you think/hope this data set can give you? At this stage, it is very important to be in the open mode where you don't write off any questions because you think they're too obvious/not good enough/too complicated to answer/any other reason. Write down every single thought, do.not.discard.any.ideas/questions!\n",
    "3. Have a look at the data set. Play with it, have a look at all the variables, maybe even write a bit of code just for fun. And again, just write everything down, don't discard *any* thoughts!\n",
    "\n",
    "Don't be afraid of spending quite some time on 1-3. It'll hopefully pay off later on!"
   ]
  },
  {
   "cell_type": "markdown",
   "id": "e43dab7f",
   "metadata": {},
   "source": [
    "Now you're ready to get specific:\n",
    "\n",
    "1. Decide on one major problem statement. Think more about the insights you want to give us rather than the code you can write!\n",
    "2. Formulate 3-4 subquestions that can help answering the major question.\n",
    "3. Taking one question at a time, have a look at your data set: what variables are relevant to this question? What are the possible explanatory and response variables? What can your data set do to help you answer this question, and what can it not answer?"
   ]
  },
  {
   "cell_type": "markdown",
   "id": "720e170b",
   "metadata": {},
   "source": [
    "## And now you can start doing the actual work! And remember to have fun!*\n",
    "\n",
    "(* You learn far more when you have fun, so having fun is a serious business!)"
   ]
  },
  {
   "cell_type": "markdown",
   "id": "bd5bada0",
   "metadata": {},
   "source": []
  },
  {
   "cell_type": "markdown",
   "id": "bf5c64d1",
   "metadata": {},
   "source": []
  }
 ],
 "metadata": {
  "kernelspec": {
   "display_name": "Python 3",
   "language": "python",
   "name": "python3"
  }
 },
 "nbformat": 4,
 "nbformat_minor": 5
}
