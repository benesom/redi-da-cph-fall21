{
 "cells": [
  {
   "cell_type": "markdown",
   "metadata": {
    "slideshow": {
     "slide_type": "slide"
    }
   },
   "source": [
    "# The Semester Project"
   ]
  },
  {
   "cell_type": "markdown",
   "metadata": {
    "slideshow": {
     "slide_type": "slide"
    }
   },
   "source": [
    "## What to do?\n",
    "\n",
    "- Find a dataset and formulate a problem\n",
    "- Get the data and any documentation about it if available\n",
    "- Explore and clean your data (up to 80% of the project)\n",
    "- Optional: enrich your data - How can you add information to the data you have already?\n",
    "- Build visualizations that help you answer your problem statement\n",
    "- Prepare a presentation. Date: **6. December 2021**"
   ]
  },
  {
   "cell_type": "markdown",
   "metadata": {
    "slideshow": {
     "slide_type": "slide"
    }
   },
   "source": [
    "## What we want to see on 6. December\n",
    "\n",
    "- That you can apply the tools and methods you learned this semester on a data set of your choosing,\n",
    "- You are able to choose the appropriate tools for your problem statement and data set\n",
    "- Walk us through what you did on a high level\n",
    "- You can make a power point presentation but you can also walk us through your notebook\n",
    "- In your data visualizations, **NEVER** forget to label the axes and display a legend\n",
    "\n",
    "\n",
    "**What NOT to do:**\n",
    "- go through every line of code you have written\n",
    "- try to use everything you have learned\n",
    "- copy-paste a project you find online"
   ]
  },
  {
   "cell_type": "markdown",
   "metadata": {
    "slideshow": {
     "slide_type": "subslide"
    }
   },
   "source": [
    "### Make sure you talk about:\n",
    "- Your problem statement\n",
    "- How you cleaned the data\n",
    "- What your visualizations show\n",
    "- Whether you found an answer to your problem statement, if yes, what is it?\n",
    "- If you would continue to work on the data, what further analysis would you do?"
   ]
  },
  {
   "cell_type": "markdown",
   "metadata": {
    "slideshow": {
     "slide_type": "slide"
    }
   },
   "source": [
    "## Some good data sets\n",
    "\n",
    "- Student alcohol consumption: https://www.kaggle.com/uciml/student-alcohol-consumption\n",
    "- if you have a Netflix account, download your viewing history as a csv file from your account\n",
    "- COVID-19 global dataset: https://www.kaggle.com/josephassaker/covid19-global-dataset\n",
    "- world cities air quality and water pollution: https://www.kaggle.com/cityapiio/world-cities-air-quality-and-water-polution\n",
    "\n",
    "\n"
   ]
  },
  {
   "cell_type": "code",
   "execution_count": null,
   "metadata": {},
   "outputs": [],
   "source": []
  }
 ],
 "metadata": {
  "celltoolbar": "Slideshow",
  "kernelspec": {
   "display_name": "Python [conda env:ML]",
   "language": "python",
   "name": "conda-env-ML-py"
  },
  "language_info": {
   "codemirror_mode": {
    "name": "ipython",
    "version": 3
   },
   "file_extension": ".py",
   "mimetype": "text/x-python",
   "name": "python",
   "nbconvert_exporter": "python",
   "pygments_lexer": "ipython3",
   "version": "3.7.11"
  }
 },
 "nbformat": 4,
 "nbformat_minor": 4
}
