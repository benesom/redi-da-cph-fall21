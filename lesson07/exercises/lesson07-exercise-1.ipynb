{
 "cells": [
  {
   "cell_type": "code",
   "execution_count": 62,
   "metadata": {},
   "outputs": [],
   "source": [
    "import numpy as np"
   ]
  },
  {
   "cell_type": "markdown",
   "metadata": {},
   "source": [
    "# 1) Usage of random seeds\n",
    "\n",
    "Try to understand the output of the following two cells. What happens if you assign a different integer value to the seed variable?\n"
   ]
  },
  {
   "cell_type": "code",
   "execution_count": 63,
   "metadata": {},
   "outputs": [
    {
     "name": "stdout",
     "output_type": "stream",
     "text": [
      "[0.49671415]\n"
     ]
    }
   ],
   "source": [
    "seed = 42\n",
    "np.random.seed(seed)\n",
    "print(np.random.standard_normal(1))"
   ]
  },
  {
   "cell_type": "code",
   "execution_count": 64,
   "metadata": {},
   "outputs": [
    {
     "name": "stdout",
     "output_type": "stream",
     "text": [
      "[-0.1382643]\n"
     ]
    }
   ],
   "source": [
    "print(np.random.standard_normal(1))"
   ]
  },
  {
   "cell_type": "markdown",
   "metadata": {},
   "source": [
    "# 2) Expectation and variance\n",
    "\n",
    "The following dictionary describes a (discrete) probability function. "
   ]
  },
  {
   "cell_type": "code",
   "execution_count": 65,
   "metadata": {},
   "outputs": [],
   "source": [
    "lottery_outcomes = {\n",
    "        1000:0.2,\n",
    "        500:0.4,\n",
    "        250:0.1,\n",
    "        150:0.05,\n",
    "        75:0.2,\n",
    "        -1000:0.05\n",
    "    }"
   ]
  },
  {
   "cell_type": "markdown",
   "metadata": {},
   "source": [
    "## a) Calculate the expectation and variance of the distribution"
   ]
  },
  {
   "cell_type": "markdown",
   "metadata": {},
   "source": [
    "## b) Use the numpy.random.choice function to draw samples from this distribution"
   ]
  },
  {
   "cell_type": "markdown",
   "metadata": {},
   "source": [
    "# 3) Correlation"
   ]
  },
  {
   "cell_type": "markdown",
   "metadata": {},
   "source": [
    "## a) Use the following function to simulate data as\n",
    "$$\n",
    "Y = X^k + \\epsilon,  \\quad \\epsilon \\sim N(0, 1),  X \\sim N(0, 100), \n",
    "$$\n",
    "where k is either 1, 2 or 3. Then calculate the linear correlation between Y and X with the numpy.corrcoef(). How does the correlation coefficient change with the choice of the parameter k"
   ]
  },
  {
   "cell_type": "code",
   "execution_count": 67,
   "metadata": {},
   "outputs": [],
   "source": [
    "def generate_data(k, size=10000):\n",
    "    X = 10 * np.random.standard_normal(size).reshape(1, -1)\n",
    "    Y = X ** k + np.random.standard_normal(size).reshape(1, -1)\n",
    "    \n",
    "    return X, Y"
   ]
  },
  {
   "cell_type": "markdown",
   "metadata": {},
   "source": [
    "## b) Visualise the input (X) and output (Y) of the previously defined equation for k=1, 2 and 3. Try to formulate in words what you see and link it to the calculated correlation coefficients."
   ]
  }
 ],
 "metadata": {
  "kernelspec": {
   "display_name": "Python 3",
   "language": "python",
   "name": "python3"
  },
  "language_info": {
   "codemirror_mode": {
    "name": "ipython",
    "version": 3
   },
   "file_extension": ".py",
   "mimetype": "text/x-python",
   "name": "python",
   "nbconvert_exporter": "python",
   "pygments_lexer": "ipython3",
   "version": "3.9.1"
  }
 },
 "nbformat": 4,
 "nbformat_minor": 4
}
