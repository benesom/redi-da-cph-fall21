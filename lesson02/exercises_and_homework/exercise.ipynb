{
 "cells": [
  {
   "cell_type": "markdown",
   "metadata": {},
   "source": [
    "# Clean the pension fund dataset!\n",
    "\n",
    "The dataset you're about to work with contains an excerpt of a much larger dataset with all the Danish pension funds' investments. It is provided as a CSV file with the following columns: name of the pension fund, name of the company, invested amount. The separator of the CSV file is the semicolon (;).\n",
    "\n",
    "Your task is to clean and format the data according to the guidelines below and then write it to a new (!) CSV file.\n",
    "\n",
    "Please note that the only module you will have to import is Python's built-in CSV module. Some of the tasks can be solved using other modules, but this is totally optional, and you will most probably be able to solve the tasks faster by implementing your own function instead of searching for a corresponding one (be aware that this only counts for this exercise - in other circumstances it may be much better to use existing modules!).\n",
    "\n",
    "In this exercise, you should focus on breaking the code into several helper functions. Work on making each of the helper functions return the desired output, which in turn involves looking at what exactly you provide as input to the function.\n",
    "\n",
    "Complete the following tasks - but think about the order in which you do them first!\n",
    "\n",
    "- Remove any wrong or odd row entries.\n",
    "- Read the file into memory.\n",
    "- All the columns with the company names begin with 'company_name:'. Remove this, so that the entry only contains the company's name. \n",
    "- Write the nice and clean data to another CSV file.\n",
    "- In the raw file, the invested sums are formatted in different ways. AkademikerPension is formatted as decimal numbers, and Industriens Pension is in million DKK (e. g. 130 means 130000000). Only PenSam and Velliv are already formatted correctly. All of the sums have to be formatted as non-decimal numbers and as a complete number, e.g. if the investment is 5.9 million DKK, the entry should be 5900000 and nothing else.\n",
    "\n",
    "For the tasks involving string manipulation, you can find help here: https://github.com/jakevdp/WhirlwindTourOfPython/blob/master/14-Strings-and-Regular-Expressions.ipynb\n",
    "\n",
    "If you are done with the tasks above, please do the following:\n",
    "- Create a dictionary with the name of the pension fund as the key, and a list of lists as the value of each fund. The list should contain the largest invested sum in a single company and the median investment. It should be in the following format: [[company name (str), invested sum (int)], [company name (str), invested sum (int)]] with the entry at index 0 being the company where the corresponding pension fund has invested the largest amount of money.\n",
    "- Make sure all your helper functions contain docstrings according to PEP8."
   ]
  },
  {
   "cell_type": "code",
   "execution_count": null,
   "metadata": {},
   "outputs": [],
   "source": [
    "import csv\n",
    "\n",
    "file_path = 'pension_fund_data.csv'\n",
    "\n",
    "with open(file_path) as file:\n",
    "    reader = csv.reader(file, delimiter=';')\n",
    "    header = next(reader)\n",
    "    fund_data = [row for row in reader]\n",
    "    \n",
    "print(header)\n"
   ]
  },
  {
   "cell_type": "code",
   "execution_count": null,
   "metadata": {},
   "outputs": [],
   "source": [
    "# Basic inspection of pension fund names (solves the wrong/odd entries):\n",
    "\n",
    "fund_names = set([row[0] for row in fund_data])\n",
    "print(fund_names)\n",
    "\n",
    "# (in a spreadsheet editor, the equivalent would be to have a look at the fund names by filtering that column)"
   ]
  },
  {
   "cell_type": "code",
   "execution_count": null,
   "metadata": {},
   "outputs": [],
   "source": [
    "fund_names.remove('Nofund')"
   ]
  },
  {
   "cell_type": "code",
   "execution_count": null,
   "metadata": {},
   "outputs": [],
   "source": [
    "for row in fund_data:\n",
    "    if row[0] == 'Nofund':\n",
    "        print(row, fund_data.index(row))\n",
    "        remove_entry = row"
   ]
  },
  {
   "cell_type": "code",
   "execution_count": null,
   "metadata": {},
   "outputs": [],
   "source": [
    "print(fund_data[3770])"
   ]
  },
  {
   "cell_type": "code",
   "execution_count": null,
   "metadata": {},
   "outputs": [],
   "source": [
    "fund_data.remove(remove_entry)\n",
    "print(fund_data[3770])"
   ]
  },
  {
   "cell_type": "code",
   "execution_count": null,
   "metadata": {},
   "outputs": [],
   "source": [
    "# Remove 'company_name: '\n",
    "def remove_company_name(company):\n",
    "    \"\"\"Formats the data in the company name column\"\"\"\n",
    "    return company.replace('company_name: ', '')"
   ]
  },
  {
   "cell_type": "code",
   "execution_count": null,
   "metadata": {},
   "outputs": [],
   "source": [
    "for row in fund_data:\n",
    "    print(remove_company_name(row[1]))"
   ]
  },
  {
   "cell_type": "code",
   "execution_count": null,
   "metadata": {},
   "outputs": [],
   "source": [
    "for row in fund_data:\n",
    "    print(row[1])"
   ]
  },
  {
   "cell_type": "code",
   "execution_count": null,
   "metadata": {},
   "outputs": [],
   "source": [
    "# Formatting the amounts:\n",
    "\n",
    "# Helper functions:\n",
    "\n",
    "def format_akademikerpension(amount):\n",
    "    \"\"\"One-line formatting of the amount\"\"\"\n",
    "    return str(round(float(amount)))\n",
    "\n",
    "\n",
    "# We can also make it easier to read:\n",
    "def format_akademikerpension(amount):\n",
    "    \"\"\"Rounds the amount, with no decimals\"\"\"\n",
    "    to_float = float(amount)\n",
    "    rounded = round(to_float)\n",
    "    return str(rounded)\n",
    "\n",
    "# Test the function:\n",
    "\n",
    "test_amounts = ['9035889.67000961', '3123113.54', '4561058.26', '19143250.6991266']\n",
    "correct_amounts = ['9035890', '3123114', '4561058', '19143251']\n",
    "\n",
    "for idx in range(4):\n",
    "    formatted_amount = format_akademikerpension(test_amounts[idx])\n",
    "    print(formatted_amount, correct_amounts[idx] == formatted_amount)"
   ]
  },
  {
   "cell_type": "markdown",
   "metadata": {},
   "source": [
    "n the raw file, the invested sums are formatted in different ways. AkademikerPension is formatted as decimal numbers, and Industriens Pension is in million DKK (e. g. 130 means 130000000). Only PenSam and Velliv are already formatted correctly. All of the sums have to be formatted as non-decimal numbers and as a complete number, e.g. if the investment is 5.9 million DKK, the entry should be 5900000 and nothing else."
   ]
  },
  {
   "cell_type": "code",
   "execution_count": null,
   "metadata": {},
   "outputs": [],
   "source": [
    "def format_industriens_pension(amount):\n",
    "    \"\"\"Multiplies the amount, with no decimals\"\"\"\n",
    "    to_float = float(amount)\n",
    "    multiply = to_float * 1000000\n",
    "    to_int = int(multiply)\n",
    "    return str(to_int)\n",
    "\n",
    "# Test the function:\n",
    "\n",
    "test_amounts = ['8', '114', '248', '0.36', '3.43']\n",
    "correct_amounts = ['8000000', '114000000', '248000000', '360000', '3430000']\n",
    "\n",
    "for idx in range(5):\n",
    "    formatted_amount = format_industriens_pension(test_amounts[idx])\n",
    "    print(formatted_amount, correct_amounts[idx] == formatted_amount)"
   ]
  },
  {
   "cell_type": "code",
   "execution_count": null,
   "metadata": {},
   "outputs": [],
   "source": [
    "# Create new list for output data:\n",
    "output_list = []"
   ]
  },
  {
   "cell_type": "code",
   "execution_count": null,
   "metadata": {},
   "outputs": [],
   "source": [
    "# Append output_list, with correct formatting of all rows:\n",
    "for row in fund_data:\n",
    "    new_row = [row[0], remove_company_name(row[1])]\n",
    "    if row[0] == 'AkademikerPension':\n",
    "        new_row.append(format_akademikerpension(row[2]))\n",
    "    elif row[0] == 'Industriens Pension':\n",
    "        new_row.append(format_industriens_pension(row[2]))\n",
    "    else:\n",
    "        new_row.append(row[2])\n",
    "    print(new_row)\n",
    "    output_list.append(new_row)\n",
    "                \n",
    "                       "
   ]
  },
  {
   "cell_type": "code",
   "execution_count": null,
   "metadata": {},
   "outputs": [],
   "source": [
    "# Final task: write to CSV:\n",
    "output_file = 'pension_fund_data_cleaned_and_formatted.csv'\n",
    "\n",
    "with open(output_file, 'w') as file:\n",
    "    writer = csv.writer(file)\n",
    "    writer.writerows(output_list)"
   ]
  },
  {
   "cell_type": "markdown",
   "metadata": {},
   "source": [
    "Create a dictionary with the name of the pension fund as the key, and a list of lists as the value of each fund. The list should contain the largest invested sum in a single company and the median investment. It should be in the following format: [[company name (str), invested sum (int)], [company name (str), invested sum (int)]] with the entry at index 0 being the company where the corresponding pension fund has invested the largest amount of money."
   ]
  },
  {
   "cell_type": "markdown",
   "metadata": {},
   "source": [
    "As mentioned in class, the correct way of doing this is not a list of lists, but a nested dict. The nested dict should be in the following format:\n",
    "\n",
    "{Pension fund: {'sum':{company: amount}, 'median': amount}\n",
    "\n",
    "Using just one fund as an example, this would be:\n",
    "\n",
    "mydict = {'Industriens':{'sum':{'microsoft':99999}, 'median':88888}}"
   ]
  },
  {
   "cell_type": "code",
   "execution_count": null,
   "metadata": {},
   "outputs": [],
   "source": [
    "# Let's reuse the fund_names variable from above:\n",
    "\n",
    "summary_dict = {}\n",
    "\n",
    "# Find the max amount:\n",
    "\n",
    "for fund in fund_names:\n",
    "    summary_dict[fund] = {}\n",
    "    max_amount = 0\n",
    "    for row in output_list: # Note that we use the output list to avoid having to reformat the amounts\n",
    "        if row[0] == fund:\n",
    "            if int(row[2]) > max_amount:\n",
    "                max_amount = int(row[2])\n",
    "                summary_dict[fund]['Largest investment'] = {row[1]: row[2]}\n",
    "\n",
    "summary_dict"
   ]
  },
  {
   "cell_type": "code",
   "execution_count": null,
   "metadata": {},
   "outputs": [],
   "source": [
    "# Find the median:\n",
    "\n",
    "import statistics\n",
    "\n",
    "for fund in fund_names:\n",
    "    amounts = [int(row[2]) for row in output_list if row[0] == fund]\n",
    "    summary_dict[fund]['Median investment'] = statistics.median(amounts)\n",
    "    \n",
    "summary_dict\n"
   ]
  },
  {
   "cell_type": "code",
   "execution_count": null,
   "metadata": {},
   "outputs": [],
   "source": [
    "# Slightly different approach that does it all in one go:\n",
    "\n",
    "import statistics\n",
    "\n",
    "summary_dict = {}\n",
    "\n",
    "for fund in fund_names:\n",
    "    summary_dict[fund] = {}\n",
    "    this_fund = [row for row in output_list if row[0] == fund] # Note that we use the output list to\n",
    "                                                               # avoid having to reformat the amounts\n",
    "    amounts = [int(row[2]) for row in this_fund]\n",
    "    max_amount = max(amounts)\n",
    "    company = this_fund[amounts.index(max_amount)][1]\n",
    "    summary_dict[fund]['Largest investment'] = {company: max_amount}\n",
    "    summary_dict[fund]['Median investment'] = statistics.median(amounts)\n",
    "    \n",
    "summary_dict\n",
    "                "
   ]
  },
  {
   "cell_type": "code",
   "execution_count": null,
   "metadata": {},
   "outputs": [],
   "source": []
  },
  {
   "cell_type": "code",
   "execution_count": null,
   "metadata": {},
   "outputs": [],
   "source": []
  },
  {
   "cell_type": "code",
   "execution_count": null,
   "metadata": {},
   "outputs": [],
   "source": []
  },
  {
   "cell_type": "code",
   "execution_count": null,
   "metadata": {},
   "outputs": [],
   "source": []
  },
  {
   "cell_type": "code",
   "execution_count": null,
   "metadata": {},
   "outputs": [],
   "source": []
  },
  {
   "cell_type": "code",
   "execution_count": null,
   "metadata": {},
   "outputs": [],
   "source": []
  },
  {
   "cell_type": "code",
   "execution_count": null,
   "metadata": {},
   "outputs": [],
   "source": []
  },
  {
   "cell_type": "code",
   "execution_count": null,
   "metadata": {},
   "outputs": [],
   "source": []
  },
  {
   "cell_type": "code",
   "execution_count": null,
   "metadata": {},
   "outputs": [],
   "source": []
  }
 ],
 "metadata": {
  "kernelspec": {
   "display_name": "Python 3",
   "language": "python",
   "name": "python3"
  },
  "language_info": {
   "codemirror_mode": {
    "name": "ipython",
    "version": 3
   },
   "file_extension": ".py",
   "mimetype": "text/x-python",
   "name": "python",
   "nbconvert_exporter": "python",
   "pygments_lexer": "ipython3",
   "version": "3.9.1"
  }
 },
 "nbformat": 4,
 "nbformat_minor": 4
}
