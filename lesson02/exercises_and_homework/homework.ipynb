{
 "cells": [
  {
   "cell_type": "markdown",
   "id": "782e95c2",
   "metadata": {},
   "source": [
    "# Fun with Lego\n",
    "\n",
    "In this folder there is a CSV file with all Lego sets from 1950 to 2017. Your homework is to use this file to answer the questions below. Just as for the in-class exercise, you should be able to solve everything without any non-standard libraries (except for the optional matplotlib exercise), but you are more than welcome to use any other libraries.\n",
    "\n",
    "Answer the following questions and put your answer in a dictionary, with the first word of each line (e.g. 'all_pieces' or 'year_most') as the key and your answer as the value. Your homework must also include the code that you used to find the answers.\n",
    "\n",
    "- 'all_pieces': If you had one of each of the sets, how many pieces of Lego would you have then?\n",
    "- 'year_most': In which year was the highest number of sets released?\n",
    "- 'average_pieces': What is the average number of pieces in all sets, rounded to 1 decimal?\n",
    "- 'most_used_word': Which word is used most often in the names of the sets?\n",
    "\n",
    "You can find more information about the dataset here:\n",
    "https://www.kaggle.com/rtatman/lego-database\n",
    "\n",
    "Optional matplotlib exercise:\n",
    "- Plot the years from 1950-2017 on the x-axis and the median number of pieces of a set of the given year on the y-axis.\n",
    "\n",
    "Optional themes exercises (for these, you will also need the themes.csv file):\n",
    "Each set is part of a theme, and each theme is also part of one or more parent themes. For example, the set 60141-1 is part of theme 80 (Police), which in turn is part of theme 67 (Classic Town), which again in turn is part of theme 50 (Town). Theme 50, however, is a parent theme, and therefore there are no other themes 'above' it.\n",
    "- Create a dictionary with all parent themes as keys, and a list of all their sub-themes as values. Here, you should only discern between a parent theme and any subtheme. Thus, theme 50 would be a parent theme, and both theme 80 and 67 should be listed on the same level.\n",
    "- Create a dictionary with all parent themes as keys and the number of the sets that are part of it. Here, you have to make sure that each set is only counted once!\n",
    "\n"
   ]
  },
  {
   "cell_type": "code",
   "execution_count": 351,
   "id": "3ff2ad7e",
   "metadata": {},
   "outputs": [],
   "source": [
    "from collections import defaultdict\n",
    "from csv import reader\n",
    "\n",
    "file = open(\"legosets.csv\", \"r\")\n",
    "csv_reader = reader(file)\n",
    "\n",
    "keys = next(csv_reader)\n",
    "\n",
    "legosets = defaultdict(dict) # index by set_num\n",
    "for line_values in csv_reader:\n",
    "    set_id = line_values[0]  # first row is always id \n",
    "    legosets[set_id] = dict(zip(keys[1:], line_values[1:]))"
   ]
  },
  {
   "cell_type": "code",
   "execution_count": 352,
   "id": "e31df11b",
   "metadata": {},
   "outputs": [],
   "source": [
    "results = dict(all_pieces=sum([int(set_dict[\"num_parts\"]) for set_dict in legosets.values()]))"
   ]
  },
  {
   "cell_type": "code",
   "execution_count": 353,
   "id": "313d7774",
   "metadata": {},
   "outputs": [
    {
     "data": {
      "text/plain": [
       "{'name': 'Weetabix Promotional House 2',\n",
       " 'year': '1976',\n",
       " 'theme_id': '413',\n",
       " 'num_parts': '149'}"
      ]
     },
     "execution_count": 353,
     "metadata": {},
     "output_type": "execute_result"
    }
   ],
   "source": [
    "legosets[list(legosets.keys())[9]]"
   ]
  },
  {
   "cell_type": "code",
   "execution_count": 354,
   "id": "17eeb7e6",
   "metadata": {},
   "outputs": [],
   "source": [
    "sets_per_year = defaultdict(list)\n",
    "\n",
    "for set_id, set_dict in legosets.items():\n",
    "    sets_per_year[set_dict[\"year\"]].append(set_id)\n",
    "    \n",
    "set_count = [len(sets) for sets in sets_per_year.values()]\n",
    "\n",
    "results[\"year_most\"] = list(sets_per_year.keys())[set_count.index(max(set_count))]"
   ]
  },
  {
   "cell_type": "code",
   "execution_count": 355,
   "id": "5d04b02f",
   "metadata": {},
   "outputs": [],
   "source": [
    "num_parts_per_set = [int(set_dict[\"num_parts\"]) for set_dict in legosets.values()]\n",
    "results[\"average_pieces\"] = round(sum(num_parts_per_set) / len(num_parts_per_set))"
   ]
  },
  {
   "cell_type": "code",
   "execution_count": null,
   "id": "b8651afc",
   "metadata": {},
   "outputs": [],
   "source": []
  },
  {
   "cell_type": "code",
   "execution_count": 377,
   "id": "671ac5be",
   "metadata": {},
   "outputs": [],
   "source": [
    "all_words = list()\n",
    "\n",
    "chars_to_remove = [\",\", \"[\", \"]\", \"(\", \")\"]\n",
    "for set_id, set_dict in legosets.items():\n",
    "    name = set_dict[\"name\"]\n",
    "    _ = [name.replace(\"[\", \" \") for _char in chars_to_remove]\n",
    "    for char in chars_to_remove:\n",
    "        name = name.replace(char, \" \")\n",
    "    all_words += name.split(\" \")\n",
    "\n",
    "\n",
    "unique_words = list(set(all_words))\n",
    "for word in unique_words:\n",
    "    if len(word) <= 1:\n",
    "        unique_words.remove(word)\n",
    "        \n",
    "# unique_words.remove(\"\")\n",
    "unique_words_count = [all_words.count(word) for word in unique_words]\n",
    "# _ = unique_words_count.remove(\"\")\n",
    "results[\"most_used_word\"] = unique_words[unique_words_count.index(max(unique_words_count))]"
   ]
  },
  {
   "cell_type": "code",
   "execution_count": 378,
   "id": "120ec1a2",
   "metadata": {},
   "outputs": [
    {
     "data": {
      "text/plain": [
       "{'all_pieces': 1894089,\n",
       " 'year_most': '2014',\n",
       " 'average_pieces': 162,\n",
       " 'most_used_word': 'Set'}"
      ]
     },
     "execution_count": 378,
     "metadata": {},
     "output_type": "execute_result"
    }
   ],
   "source": [
    "results"
   ]
  }
 ],
 "metadata": {
  "kernelspec": {
   "display_name": "Python 3",
   "language": "python",
   "name": "python3"
  },
  "language_info": {
   "codemirror_mode": {
    "name": "ipython",
    "version": 3
   },
   "file_extension": ".py",
   "mimetype": "text/x-python",
   "name": "python",
   "nbconvert_exporter": "python",
   "pygments_lexer": "ipython3",
   "version": "3.9.1"
  }
 },
 "nbformat": 4,
 "nbformat_minor": 5
}
