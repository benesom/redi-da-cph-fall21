{
 "cells": [
  {
   "cell_type": "markdown",
   "metadata": {},
   "source": [
    "# Clean the pension fund dataset!\n",
    "\n",
    "The dataset you're about to work with contains an excerpt of a much larger dataset with all the Danish pension funds' investments. It is provided as a CSV file with the following columns: name of the pension fund, name of the company, invested amount. The separator of the CSV file is the semicolon (;).\n",
    "\n",
    "Your task is to clean and format the data according to the guidelines below and then write it to a new (!) CSV file.\n",
    "\n",
    "Please note that the only module you will have to import is Python's built-in CSV module. Some of the tasks can be solved using other modules, but this is totally optional, and you will most probably be able to solve the tasks faster by implementing your own function instead of searching for a corresponding one (be aware that this only counts for this exercise - in other circumstances it may be much better to use existing modules!).\n",
    "\n",
    "In this exercise, you should focus on breaking the code into several helper functions. Work on making each of the helper functions return the desired output, which in turn involves looking at what exactly you provide as input to the function.\n",
    "\n",
    "Complete the following tasks - but think about the order in which you do them first!\n",
    "\n",
    "- Remove any wrong or odd row entries.\n",
    "- Read the file into memory.\n",
    "- All the columns with the company names begin with 'company_name:'. Remove this, so that the entry only contains the company's name. \n",
    "- Write the nice and clean data to another CSV file.\n",
    "- In the raw file, the invested sums are formatted in different ways. AkademikerPension is formatted as decimal numbers, and Industriens Pension is in million DKK (e. g. 130 means 130000000). Only PenSam and Velliv are already formatted correctly. All of the sums have to be formatted as non-decimal numbers and as a complete number, e.g. if the investment is 5.9 million DKK, the entry should be 5900000 and nothing else.\n",
    "\n",
    "For the tasks involving string manipulation, you can find help here: https://github.com/jakevdp/WhirlwindTourOfPython/blob/master/14-Strings-and-Regular-Expressions.ipynb\n",
    "\n",
    "If you are done with the tasks above, please do the following:\n",
    "- Create a dictionary with the name of the pension fund as the key, and a list of lists as the value of each fund. The list should contain the largest invested sum in a single company and the median investment. It should be in the following format: [[company name (str), invested sum (int)], [company name (str), invested sum (int)]] with the entry at index 0 being the company where the corresponding pension fund has invested the largest amount of money.\n",
    "- Make sure all your helper functions contain docstrings according to PEP8."
   ]
  },
  {
   "cell_type": "code",
   "execution_count": 75,
   "metadata": {},
   "outputs": [],
   "source": [
    "stats = defaultdict(list)dioc\n",
    "\n",
    "for fund_name, list_of_invests in pension_data.items():\n",
    "    invests = [_dict[\"invested_amount\"] for _dict in list_of_invests]\n",
    "    company_names = [_dict[\"company_names\"] for _dict in list_of_invests]\n",
    "    \n",
    "    max_invest = max(invests)\n",
    "    \n",
    "#     median_invest = "
   ]
  },
  {
   "cell_type": "code",
   "execution_count": 45,
   "metadata": {},
   "outputs": [],
   "source": [
    "from csv import reader\n",
    "from collections import defaultdict"
   ]
  },
  {
   "cell_type": "code",
   "execution_count": 73,
   "metadata": {},
   "outputs": [],
   "source": [
    "def format_company_name(name):\n",
    "    company_name = name.split(\"company_name \")[-1]\n",
    "    \n",
    "    return company_name\n",
    "\n",
    "    \n",
    "def format_invested_amount_for_funds(fund_name, amount):\n",
    "    if fund_name == \"AkademikerPension\":\n",
    "        return round(float(amount))\n",
    "    elif fund_name == \"Industriens Pension\":\n",
    "        return float(amount) * 1e6\n",
    "    else:\n",
    "        return float(amount)\n",
    "    \n",
    "\n",
    "file = open(\"pension_fund_data.csv\")\n",
    "csv_reader = reader(file, delimiter=\";\")\n",
    "header = next(csv_reader)\n",
    "\n",
    "pension_data = defaultdict(list)\n",
    "for line in csv_reader:\n",
    "    pension_name, company_name, invested_amount = line\n",
    "    company_name = format_company_name(company_name)\n",
    "    invested_amount = format_invested_amount_for_funds(pension_name, invested_amount)\n",
    "    \n",
    "    pension_data[pension_name].append(dict(company_name=company_name, \n",
    "                                      invested_amount=invested_amount))\n",
    "\n",
    "    \n",
    "pension_data.pop(\"Nofund\")\n",
    "file.close()"
   ]
  }
 ],
 "metadata": {
  "kernelspec": {
   "display_name": "Python 3",
   "language": "python",
   "name": "python3"
  },
  "language_info": {
   "codemirror_mode": {
    "name": "ipython",
    "version": 3
   },
   "file_extension": ".py",
   "mimetype": "text/x-python",
   "name": "python",
   "nbconvert_exporter": "python",
   "pygments_lexer": "ipython3",
   "version": "3.9.1"
  }
 },
 "nbformat": 4,
 "nbformat_minor": 4
}
