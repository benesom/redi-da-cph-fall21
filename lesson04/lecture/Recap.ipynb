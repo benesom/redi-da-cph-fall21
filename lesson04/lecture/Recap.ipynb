{
 "cells": [
  {
   "cell_type": "markdown",
   "metadata": {
    "slideshow": {
     "slide_type": "slide"
    }
   },
   "source": [
    "#### GROUP 1\n",
    "1.   What is dimension of the following array?\n",
    "         c = np.array([[1, 2, 3], [4, 5, 6]])\n",
    "2. Which argument of a function read_csv would you use to determine the index column?\n",
    "\n",
    "    a. index_col\n",
    "    \n",
    "    b. index_column\n",
    "    \n",
    "    c. index\n",
    "    \n",
    "    d. idx_col\n",
    "    \n",
    "3.   List out 2 differences between Numpy and Pandas.\n",
    "4.  Explain the difference between setting the argument inplace=True or inplace=False.\n",
    "5. What the View returns which we have applied view on a Numpy array?"
   ]
  },
  {
   "cell_type": "markdown",
   "metadata": {
    "slideshow": {
     "slide_type": "slide"
    }
   },
   "source": [
    "#### GROUP 2\n",
    "6. Which of the following is the pd.Series and which a pd.DataFrame:\n",
    "\n",
    "    df[[\"column_name\"]] vs df[\"column_name\"]\n",
    "\n",
    "7.   Which of the following is TRUE about Copy in Numpy\n",
    "\n",
    "    a.    Copy owns the data\n",
    "\n",
    "    b.    Changes made to the copy will not affect original array\n",
    "\n",
    "    c.    Changes made to the original array will not affect the copy.\n",
    "\n",
    "    d.    All of the above\n",
    "\n",
    "8. Explain the difference between .iloc and .loc.\n",
    "9. Which is the function that converts datatypes on existing arrays?\n",
    "10. What are the ways to gain insight into a loaded pd.DataFrame?"
   ]
  },
  {
   "cell_type": "code",
   "execution_count": null,
   "metadata": {},
   "outputs": [],
   "source": []
  }
 ],
 "metadata": {
  "celltoolbar": "Slideshow",
  "kernelspec": {
   "display_name": "Python 3",
   "language": "python",
   "name": "python3"
  },
  "language_info": {
   "codemirror_mode": {
    "name": "ipython",
    "version": 3
   },
   "file_extension": ".py",
   "mimetype": "text/x-python",
   "name": "python",
   "nbconvert_exporter": "python",
   "pygments_lexer": "ipython3",
   "version": "3.7.6"
  }
 },
 "nbformat": 4,
 "nbformat_minor": 4
}
