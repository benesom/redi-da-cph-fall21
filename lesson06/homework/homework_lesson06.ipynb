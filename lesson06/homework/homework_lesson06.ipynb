{
 "cells": [
  {
   "cell_type": "markdown",
   "id": "4c1d7584",
   "metadata": {},
   "source": [
    "# Homework lesson 06\n",
    "In this homework we keep on working with the world happiness report dataset. But instead of using only the data from 2015 we are going to use all 5 years (2015-2019) of data. The purpose of this homework is to explore the dataset via visulation techniques and (potentially) some descriptive statistics (e.g. mean, variance, correlation, etc). \n",
    "\n",
    "\n",
    "The homework is split into two parts. The first part is about reading all 5 csv's and merging them into one dataset that you can then use for your analysis. This is not necessary/mandatory to do because I provided you with the \"clean\" dataset (clean_data.csv). However, preprocessing your data is an essential skill that you need to learn. Thus, I recommend to at least try this exercise.\n",
    "\n",
    "The second part is about the exploration of the dataset. This is a relatively free task but it's definitely something that you encounter in real life. You should already have some ideas from this week's class. You can get additional ideas by considering that the data is recorded from 2015 until 2019. For example, are there countries where the happiness score increase/decreased a lot between 2015 and 2019? Could you identify countries where the happiness score is more volatile than in other countries? "
   ]
  }
 ],
 "metadata": {
  "kernelspec": {
   "display_name": "Python 3",
   "language": "python",
   "name": "python3"
  },
  "language_info": {
   "codemirror_mode": {
    "name": "ipython",
    "version": 3
   },
   "file_extension": ".py",
   "mimetype": "text/x-python",
   "name": "python",
   "nbconvert_exporter": "python",
   "pygments_lexer": "ipython3",
   "version": "3.9.1"
  }
 },
 "nbformat": 4,
 "nbformat_minor": 5
}
