{
 "cells": [
  {
   "cell_type": "code",
   "execution_count": 2,
   "id": "029a31e4",
   "metadata": {},
   "outputs": [],
   "source": [
    "import pandas as pd\n",
    "import os"
   ]
  },
  {
   "cell_type": "code",
   "execution_count": 13,
   "id": "86b6f2de",
   "metadata": {},
   "outputs": [
    {
     "name": "stdout",
     "output_type": "stream",
     "text": [
      "2019.csv\n",
      "2019.csv (156, 10)\n",
      "2018.csv\n",
      "2018.csv (156, 10)\n",
      "2015.csv\n",
      "2015.csv (158, 10)\n",
      "2016.csv\n",
      "2016.csv (157, 10)\n",
      "2017.csv\n",
      "2017.csv (155, 10)\n"
     ]
    }
   ],
   "source": [
    "dfs = []\n",
    "input_path = \"raw-data/\"\n",
    "output_path = \"processed-data/\"\n",
    "rename_d_151617 = {\"Country\":\"Country or region\", \n",
    "                          \"Family\": \"Social support\"}\n",
    "for file in os.listdir(input_path):\n",
    "    print(file)\n",
    "    year = int(file[:4])\n",
    "    df = pd.read_csv(os.path.join(input_path, file))\n",
    "    df[\"Year\"] = year\n",
    "    if year in [2019, 2018]:\n",
    "        df.rename(columns={\"Freedom to make life choices\":\"Freedom\", \n",
    "                          \"GDP per capita\":\"Economy (GDP per Capita)\",\n",
    "                          \"Overall rank\":\"Happiness Rank\",\n",
    "                          \"Score\":\"Happiness Score\",\n",
    "                          \"Healthy life expectancy\":\"Health (Life Expectancy)\",\n",
    "                          \"Perceptions of corruption\":\"Trust (Government Corruption)\"}, inplace=True)\n",
    "    if file == \"2015.csv\":\n",
    "        df.drop(columns=[\"Standard Error\", \"Dystopia Residual\", \"Region\"], inplace=True)\n",
    "        df.rename(columns=rename_d_151617, inplace=True)\n",
    "    if file == \"2016.csv\":\n",
    "        df.rename(columns=rename_d_151617, inplace=True)\n",
    "        regions = df[[\"Country or region\", \"Region\"]].copy()\n",
    "        df.drop(columns=[\"Lower Confidence Interval\", \"Dystopia Residual\", \"Region\", \"Upper Confidence Interval\"], inplace=True)\n",
    "        \n",
    "        \n",
    "    if file == \"2017.csv\":\n",
    "        df.drop(columns=[\"Whisker.low\", \"Whisker.high\", \"Dystopia.Residual\"], inplace=True)\n",
    "        df.rename(columns=rename_d_151617, inplace=True)\n",
    "        df.rename(columns={\"Economy..GDP.per.Capita.\":\"Economy (GDP per Capita)\",\n",
    "                          \"Trust..Government.Corruption.\":\"Trust (Government Corruption)\",\n",
    "                          \"Health..Life.Expectancy.\": \"Health (Life Expectancy)\",\n",
    "                          \"Happiness.Rank\":\"Happiness Rank\", \n",
    "                          \"Happiness.Score\": \"Happiness Score\"}, inplace=True)\n",
    "        \n",
    "    print(file, df.shape)\n",
    "    \n",
    "    dfs.append(df)\n",
    "    \n",
    "df_processed = pd.concat(dfs)\n",
    "df_processed_with_regions = pd.merge(df_processed, regions, on=\"Country or region\", how=\"left\")"
   ]
  },
  {
   "cell_type": "code",
   "execution_count": 18,
   "id": "de999d34",
   "metadata": {},
   "outputs": [],
   "source": [
    "df_processed.to_csv(os.path.join(output_path, \"clean_data.csv\"), index=False)\n",
    "df_processed_with_regions.to_csv(os.path.join(output_path, \"clean_data_with_regions.csv\"), index=False)"
   ]
  }
 ],
 "metadata": {
  "kernelspec": {
   "display_name": "Python 3",
   "language": "python",
   "name": "python3"
  },
  "language_info": {
   "codemirror_mode": {
    "name": "ipython",
    "version": 3
   },
   "file_extension": ".py",
   "mimetype": "text/x-python",
   "name": "python",
   "nbconvert_exporter": "python",
   "pygments_lexer": "ipython3",
   "version": "3.9.1"
  }
 },
 "nbformat": 4,
 "nbformat_minor": 5
}
