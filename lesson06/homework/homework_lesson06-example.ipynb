{
 "cells": [
  {
   "cell_type": "markdown",
   "id": "ab87379a",
   "metadata": {},
   "source": [
    "# Homework lesson 06\n",
    "In this homework we keep on working with the world happiness report dataset. But instead of using only the data from 2015 we are going to use all 5 years (2015-2019) of data. The purpose of this homework is to explore the dataset via visulation techniques and (potentially) some descriptive statistics (e.g. mean, variance, correlation, etc). \n",
    "\n",
    "\n",
    "The homework is split into two parts. The first part is about reading all 5 csv's and merging them into one dataset that you can then use for your analysis. This is not necessary/mandatory to do because I provided you with the \"clean\" dataset (clean_data.csv). However, preprocessing your data is an essential skill that you need to learn. Thus, I recommend to at least try this exercise.\n",
    "\n",
    "The second part is about the exploration of the dataset. This is a relatively free task but it's definitely something that you encounter in real life. You should already have some ideas from this week's class. You can get additional ideas by considering that the data is recorded from 2015 until 2019. For example, are there countries where the happiness score increase/decreased a lot between 2015 and 2019? Could you identify countries where the happiness score is \"very\" volatile? \n",
    "\n",
    "Please share a pdf with your results with me (Ben) before next weeks class. You can look online on how to convert a Jupyter notebook to pdf. \n",
    "\n",
    "I'm looking forward to your results! "
   ]
  },
  {
   "cell_type": "code",
   "execution_count": 1,
   "id": "432a0a37",
   "metadata": {},
   "outputs": [],
   "source": [
    "import pandas as pd\n",
    "import numpy as np"
   ]
  },
  {
   "cell_type": "code",
   "execution_count": 13,
   "id": "572d8176",
   "metadata": {},
   "outputs": [],
   "source": [
    "df = pd.read_csv(\"data/clean_data.csv\")"
   ]
  },
  {
   "cell_type": "code",
   "execution_count": 14,
   "id": "f7b6fc27",
   "metadata": {},
   "outputs": [
    {
     "data": {
      "text/html": [
       "<div>\n",
       "<style scoped>\n",
       "    .dataframe tbody tr th:only-of-type {\n",
       "        vertical-align: middle;\n",
       "    }\n",
       "\n",
       "    .dataframe tbody tr th {\n",
       "        vertical-align: top;\n",
       "    }\n",
       "\n",
       "    .dataframe thead th {\n",
       "        text-align: right;\n",
       "    }\n",
       "</style>\n",
       "<table border=\"1\" class=\"dataframe\">\n",
       "  <thead>\n",
       "    <tr style=\"text-align: right;\">\n",
       "      <th></th>\n",
       "      <th>Happiness Rank</th>\n",
       "      <th>Country or region</th>\n",
       "      <th>Happiness Score</th>\n",
       "      <th>Economy (GDP per Capita)</th>\n",
       "      <th>Social support</th>\n",
       "      <th>Health (Life Expectancy)</th>\n",
       "      <th>Freedom</th>\n",
       "      <th>Generosity</th>\n",
       "      <th>Trust (Government Corruption)</th>\n",
       "      <th>Year</th>\n",
       "    </tr>\n",
       "  </thead>\n",
       "  <tbody>\n",
       "    <tr>\n",
       "      <th>0</th>\n",
       "      <td>1</td>\n",
       "      <td>Finland</td>\n",
       "      <td>7.769</td>\n",
       "      <td>1.340</td>\n",
       "      <td>1.587</td>\n",
       "      <td>0.986</td>\n",
       "      <td>0.596</td>\n",
       "      <td>0.153</td>\n",
       "      <td>0.393</td>\n",
       "      <td>2019</td>\n",
       "    </tr>\n",
       "    <tr>\n",
       "      <th>1</th>\n",
       "      <td>2</td>\n",
       "      <td>Denmark</td>\n",
       "      <td>7.600</td>\n",
       "      <td>1.383</td>\n",
       "      <td>1.573</td>\n",
       "      <td>0.996</td>\n",
       "      <td>0.592</td>\n",
       "      <td>0.252</td>\n",
       "      <td>0.410</td>\n",
       "      <td>2019</td>\n",
       "    </tr>\n",
       "    <tr>\n",
       "      <th>2</th>\n",
       "      <td>3</td>\n",
       "      <td>Norway</td>\n",
       "      <td>7.554</td>\n",
       "      <td>1.488</td>\n",
       "      <td>1.582</td>\n",
       "      <td>1.028</td>\n",
       "      <td>0.603</td>\n",
       "      <td>0.271</td>\n",
       "      <td>0.341</td>\n",
       "      <td>2019</td>\n",
       "    </tr>\n",
       "    <tr>\n",
       "      <th>3</th>\n",
       "      <td>4</td>\n",
       "      <td>Iceland</td>\n",
       "      <td>7.494</td>\n",
       "      <td>1.380</td>\n",
       "      <td>1.624</td>\n",
       "      <td>1.026</td>\n",
       "      <td>0.591</td>\n",
       "      <td>0.354</td>\n",
       "      <td>0.118</td>\n",
       "      <td>2019</td>\n",
       "    </tr>\n",
       "    <tr>\n",
       "      <th>4</th>\n",
       "      <td>5</td>\n",
       "      <td>Netherlands</td>\n",
       "      <td>7.488</td>\n",
       "      <td>1.396</td>\n",
       "      <td>1.522</td>\n",
       "      <td>0.999</td>\n",
       "      <td>0.557</td>\n",
       "      <td>0.322</td>\n",
       "      <td>0.298</td>\n",
       "      <td>2019</td>\n",
       "    </tr>\n",
       "  </tbody>\n",
       "</table>\n",
       "</div>"
      ],
      "text/plain": [
       "   Happiness Rank Country or region  Happiness Score  \\\n",
       "0               1           Finland            7.769   \n",
       "1               2           Denmark            7.600   \n",
       "2               3            Norway            7.554   \n",
       "3               4           Iceland            7.494   \n",
       "4               5       Netherlands            7.488   \n",
       "\n",
       "   Economy (GDP per Capita)  Social support  Health (Life Expectancy)  \\\n",
       "0                     1.340           1.587                     0.986   \n",
       "1                     1.383           1.573                     0.996   \n",
       "2                     1.488           1.582                     1.028   \n",
       "3                     1.380           1.624                     1.026   \n",
       "4                     1.396           1.522                     0.999   \n",
       "\n",
       "   Freedom  Generosity  Trust (Government Corruption)  Year  \n",
       "0    0.596       0.153                          0.393  2019  \n",
       "1    0.592       0.252                          0.410  2019  \n",
       "2    0.603       0.271                          0.341  2019  \n",
       "3    0.591       0.354                          0.118  2019  \n",
       "4    0.557       0.322                          0.298  2019  "
      ]
     },
     "execution_count": 14,
     "metadata": {},
     "output_type": "execute_result"
    }
   ],
   "source": [
    "df.head()"
   ]
  },
  {
   "cell_type": "code",
   "execution_count": null,
   "id": "e61aee8b",
   "metadata": {},
   "outputs": [],
   "source": []
  },
  {
   "cell_type": "code",
   "execution_count": 34,
   "id": "d40eef4b",
   "metadata": {},
   "outputs": [
    {
     "data": {
      "text/plain": [
       "Country or region\n",
       "Greece                 0.000000\n",
       "Suriname               0.000005\n",
       "North Cyprus           0.000007\n",
       "Trinidad and Tobago    0.000014\n",
       "Armenia                0.000056\n",
       "                         ...   \n",
       "Laos                   0.010833\n",
       "Sri Lanka              0.011224\n",
       "United Kingdom         0.012953\n",
       "Thailand               0.014154\n",
       "Myanmar                0.017045\n",
       "Name: Generosity, Length: 161, dtype: float64"
      ]
     },
     "execution_count": 34,
     "metadata": {},
     "output_type": "execute_result"
    }
   ],
   "source": [
    "_vars = df.groupby(\"Country or region\")[\"Generosity\"].var().sort_values()\n",
    "_vars[~_vars.isna()]\n",
    "# _vars"
   ]
  },
  {
   "cell_type": "code",
   "execution_count": 39,
   "id": "3b800fac",
   "metadata": {},
   "outputs": [
    {
     "data": {
      "text/plain": [
       "True"
      ]
     },
     "execution_count": 39,
     "metadata": {},
     "output_type": "execute_result"
    }
   ],
   "source": [
    "np.var(df[df[\"Country or region\"] == \"Myanmar\"][\"Generosity\"].values, ddof=1) == df[df[\"Country or region\"] == \"Myanmar\"][\"Generosity\"].var()"
   ]
  },
  {
   "cell_type": "code",
   "execution_count": 38,
   "id": "85882967",
   "metadata": {},
   "outputs": [
    {
     "data": {
      "text/plain": [
       "0.01704479763950366"
      ]
     },
     "execution_count": 38,
     "metadata": {},
     "output_type": "execute_result"
    }
   ],
   "source": [
    "df[df[\"Country or region\"] == \"Myanmar\"][\"Generosity\"].var()"
   ]
  },
  {
   "cell_type": "code",
   "execution_count": 29,
   "id": "3d5ea50a",
   "metadata": {},
   "outputs": [
    {
     "data": {
      "text/html": [
       "<div>\n",
       "<style scoped>\n",
       "    .dataframe tbody tr th:only-of-type {\n",
       "        vertical-align: middle;\n",
       "    }\n",
       "\n",
       "    .dataframe tbody tr th {\n",
       "        vertical-align: top;\n",
       "    }\n",
       "\n",
       "    .dataframe thead th {\n",
       "        text-align: right;\n",
       "    }\n",
       "</style>\n",
       "<table border=\"1\" class=\"dataframe\">\n",
       "  <thead>\n",
       "    <tr style=\"text-align: right;\">\n",
       "      <th></th>\n",
       "      <th>Happiness Rank</th>\n",
       "      <th>Country or region</th>\n",
       "      <th>Happiness Score</th>\n",
       "      <th>Economy (GDP per Capita)</th>\n",
       "      <th>Social support</th>\n",
       "      <th>Health (Life Expectancy)</th>\n",
       "      <th>Freedom</th>\n",
       "      <th>Generosity</th>\n",
       "      <th>Trust (Government Corruption)</th>\n",
       "      <th>Year</th>\n",
       "    </tr>\n",
       "  </thead>\n",
       "  <tbody>\n",
       "    <tr>\n",
       "      <th>413</th>\n",
       "      <td>102</td>\n",
       "      <td>Greece</td>\n",
       "      <td>4.857</td>\n",
       "      <td>1.154060</td>\n",
       "      <td>0.929330</td>\n",
       "      <td>0.882130</td>\n",
       "      <td>0.076990</td>\n",
       "      <td>0.0</td>\n",
       "      <td>0.01397</td>\n",
       "      <td>2015</td>\n",
       "    </tr>\n",
       "    <tr>\n",
       "      <th>568</th>\n",
       "      <td>99</td>\n",
       "      <td>Greece</td>\n",
       "      <td>5.033</td>\n",
       "      <td>1.248860</td>\n",
       "      <td>0.754730</td>\n",
       "      <td>0.800290</td>\n",
       "      <td>0.058220</td>\n",
       "      <td>0.0</td>\n",
       "      <td>0.04127</td>\n",
       "      <td>2016</td>\n",
       "    </tr>\n",
       "    <tr>\n",
       "      <th>713</th>\n",
       "      <td>87</td>\n",
       "      <td>Greece</td>\n",
       "      <td>5.227</td>\n",
       "      <td>1.289487</td>\n",
       "      <td>1.239415</td>\n",
       "      <td>0.810199</td>\n",
       "      <td>0.095731</td>\n",
       "      <td>0.0</td>\n",
       "      <td>0.04329</td>\n",
       "      <td>2017</td>\n",
       "    </tr>\n",
       "    <tr>\n",
       "      <th>234</th>\n",
       "      <td>79</td>\n",
       "      <td>Greece</td>\n",
       "      <td>5.358</td>\n",
       "      <td>1.154000</td>\n",
       "      <td>1.202000</td>\n",
       "      <td>0.879000</td>\n",
       "      <td>0.131000</td>\n",
       "      <td>0.0</td>\n",
       "      <td>0.04400</td>\n",
       "      <td>2018</td>\n",
       "    </tr>\n",
       "    <tr>\n",
       "      <th>81</th>\n",
       "      <td>82</td>\n",
       "      <td>Greece</td>\n",
       "      <td>5.287</td>\n",
       "      <td>1.181000</td>\n",
       "      <td>1.156000</td>\n",
       "      <td>0.999000</td>\n",
       "      <td>0.067000</td>\n",
       "      <td>0.0</td>\n",
       "      <td>0.03400</td>\n",
       "      <td>2019</td>\n",
       "    </tr>\n",
       "  </tbody>\n",
       "</table>\n",
       "</div>"
      ],
      "text/plain": [
       "     Happiness Rank Country or region  Happiness Score  \\\n",
       "413             102            Greece            4.857   \n",
       "568              99            Greece            5.033   \n",
       "713              87            Greece            5.227   \n",
       "234              79            Greece            5.358   \n",
       "81               82            Greece            5.287   \n",
       "\n",
       "     Economy (GDP per Capita)  Social support  Health (Life Expectancy)  \\\n",
       "413                  1.154060        0.929330                  0.882130   \n",
       "568                  1.248860        0.754730                  0.800290   \n",
       "713                  1.289487        1.239415                  0.810199   \n",
       "234                  1.154000        1.202000                  0.879000   \n",
       "81                   1.181000        1.156000                  0.999000   \n",
       "\n",
       "      Freedom  Generosity  Trust (Government Corruption)  Year  \n",
       "413  0.076990         0.0                        0.01397  2015  \n",
       "568  0.058220         0.0                        0.04127  2016  \n",
       "713  0.095731         0.0                        0.04329  2017  \n",
       "234  0.131000         0.0                        0.04400  2018  \n",
       "81   0.067000         0.0                        0.03400  2019  "
      ]
     },
     "execution_count": 29,
     "metadata": {},
     "output_type": "execute_result"
    }
   ],
   "source": [
    "df[df[\"Country or region\"] == \"Greece\"].sort_values(\"Year\")"
   ]
  }
 ],
 "metadata": {
  "kernelspec": {
   "display_name": "Python 3",
   "language": "python",
   "name": "python3"
  },
  "language_info": {
   "codemirror_mode": {
    "name": "ipython",
    "version": 3
   },
   "file_extension": ".py",
   "mimetype": "text/x-python",
   "name": "python",
   "nbconvert_exporter": "python",
   "pygments_lexer": "ipython3",
   "version": "3.9.1"
  }
 },
 "nbformat": 4,
 "nbformat_minor": 5
}
