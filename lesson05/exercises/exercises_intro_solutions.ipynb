{
 "cells": [
  {
   "cell_type": "code",
   "execution_count": 55,
   "metadata": {},
   "outputs": [],
   "source": [
    "import pandas as pd\n",
    "import numpy as np\n",
    "import math"
   ]
  },
  {
   "cell_type": "markdown",
   "metadata": {},
   "source": [
    "#### In this exercises session, you will continue with the bike dataset. Please load it first."
   ]
  },
  {
   "cell_type": "code",
   "execution_count": 56,
   "metadata": {},
   "outputs": [],
   "source": [
    "bikes = pd.read_csv(\"../data/bikesharing/data.csv\")"
   ]
  },
  {
   "cell_type": "markdown",
   "metadata": {},
   "source": [
    "#### Convert the \"timestamp\" column to an actual timestamp. With the first timestamp in the list, find 2 new members and 2 new members functions. Hint: after typing the dot \".\" click a \"Tab\" and explore the list."
   ]
  },
  {
   "cell_type": "code",
   "execution_count": 57,
   "metadata": {},
   "outputs": [],
   "source": [
    "bikes[\"timestamp\"] = pd.to_datetime(bikes[\"timestamp\"], format=\"%Y-%m-%d %H:%M:%S\")   "
   ]
  },
  {
   "cell_type": "markdown",
   "metadata": {},
   "source": [
    "#### How many full weeks does this dataset cover? (a full week meaning from Monday to Sunday)"
   ]
  },
  {
   "cell_type": "code",
   "execution_count": 58,
   "metadata": {},
   "outputs": [
    {
     "data": {
      "text/plain": [
       "104"
      ]
     },
     "execution_count": 58,
     "metadata": {},
     "output_type": "execute_result"
    }
   ],
   "source": [
    "max_dt = bikes[\"timestamp\"].max()\n",
    "min_dt = bikes[\"timestamp\"].min()\n",
    "days = (max_dt - min_dt).days\n",
    "# days = (bikes[\"timestamp\"].max() - bikes[\"timestamp\"].min()).days  # or in one line\n",
    "full_weeks = math.floor( days / 7)  # floor rounds down to the nearest integer\n",
    "full_weeks"
   ]
  },
  {
   "cell_type": "markdown",
   "metadata": {},
   "source": [
    "#### What was the maximum temperature (column: t1) recorded on a Friday night (between 10p.m. and 6a.m.)?"
   ]
  },
  {
   "cell_type": "code",
   "execution_count": 59,
   "metadata": {},
   "outputs": [
    {
     "data": {
      "text/plain": [
       "21.5"
      ]
     },
     "execution_count": 59,
     "metadata": {},
     "output_type": "execute_result"
    }
   ],
   "source": [
    "bikes[\"weekday\"] = bikes[\"timestamp\"].dt.weekday   # https://pandas.pydata.org/docs/reference/api/pandas.Series.dt.weekday.html\n",
    "bikes[\"hour\"] = bikes[\"timestamp\"].dt.hour\n",
    "\n",
    "t1max_fri = bikes[(bikes[\"weekday\"] == 4) & (bikes[\"hour\"] >= 22)][\"t1\"].max()  # maximum value for Friday between 10pm and midnight\n",
    "t1max_sat = bikes[(bikes[\"weekday\"] == 5) & (bikes[\"hour\"] < 6)][\"t1\"].max()  # maximum value for Saturday between midnight and 6am\n",
    "max(t1max_fri, t1max_sat)\n",
    "\n",
    "# bikes.drop(columns=[\"weekday\", \"hour\"], inplace=True) # drop the columns again because you don't need them anymore"
   ]
  },
  {
   "cell_type": "markdown",
   "metadata": {},
   "source": [
    "#### Try to figure out what the single values of the column: weather_code mean. Create a new column which contains names of the seasons."
   ]
  },
  {
   "cell_type": "code",
   "execution_count": 60,
   "metadata": {},
   "outputs": [],
   "source": [
    "# from the README.md file in data/bikesharing we know \n",
    "# \"season\" - category field meteorological seasons: 0-spring ; 1-summer; 2-fall; 3-winter\n",
    "\n",
    "seasons = {0:\"string\", 1:\"summer\", 2:\"fall\", 3:\"winter\"}\n",
    "# prefered solution\n",
    "bikes[\"season_name\"] = bikes[\"season\"].replace(to_replace=seasons)\n",
    "\n",
    "# not so nice solution because it doesn't use vectorization and requires more code\n",
    "def assign_season_name(season_code, seasons):\n",
    "    return seasons[season_code]\n",
    "    \n",
    "bikes[\"season_name\"] = bikes[\"season\"].apply(lambda x: assign_season_name(x, seasons)) "
   ]
  },
  {
   "cell_type": "code",
   "execution_count": 71,
   "metadata": {},
   "outputs": [],
   "source": [
    "# in jupyter notebooks you can easily compare the runtime (how long it takes to execute (run) some code) by using magic commands\n",
    "# have a look at https://towardsdatascience.com/top-8-magic-commands-in-jupyter-notebook-c1582e813560\n",
    "# the following to cells compare the runtime of the vectorized and non-vectorized solution. as expected, the vectorized solution is faster (about 3 times as fast as the non-vectorized)"
   ]
  },
  {
   "cell_type": "code",
   "execution_count": 70,
   "metadata": {},
   "outputs": [
    {
     "name": "stdout",
     "output_type": "stream",
     "text": [
      "744 µs ± 6.72 µs per loop (mean ± std. dev. of 7 runs, 1000 loops each)\n"
     ]
    }
   ],
   "source": [
    "%%timeit \n",
    "bikes[\"season\"].replace(to_replace=seasons)"
   ]
  },
  {
   "cell_type": "code",
   "execution_count": 64,
   "metadata": {},
   "outputs": [
    {
     "name": "stdout",
     "output_type": "stream",
     "text": [
      "2.28 ms ± 16.5 µs per loop (mean ± std. dev. of 7 runs, 100 loops each)\n"
     ]
    }
   ],
   "source": [
    "%%timeit\n",
    "bikes[\"season\"].apply(lambda x: assign_season_name(x, seasons)) "
   ]
  },
  {
   "cell_type": "markdown",
   "metadata": {},
   "source": [
    "#### What was the average number of bike rides in winter? How was the number in the summer? What can you say about these numbers and is a direct comparison the right thing to do? Why? Why not?"
   ]
  },
  {
   "cell_type": "code",
   "execution_count": 72,
   "metadata": {},
   "outputs": [
    {
     "data": {
      "text/plain": [
       "season_name\n",
       "fall      1178.954218\n",
       "string    1103.831589\n",
       "summer    1464.465238\n",
       "winter     821.729099\n",
       "Name: cnt, dtype: float64"
      ]
     },
     "execution_count": 72,
     "metadata": {},
     "output_type": "execute_result"
    }
   ],
   "source": [
    "bikes.groupby([\"season_name\"])[\"cnt\"].mean()  # returns the average (mean) for all 4 seasons"
   ]
  },
  {
   "cell_type": "code",
   "execution_count": null,
   "metadata": {},
   "outputs": [],
   "source": [
    "# maken statements/drawing conclusions based only on the mean can be dangerous because the mean can be affected by outliers (in this example, very large values that increase the average). The median \n",
    "# is more robust against outliers. Have a look at https://www.clinfo.eu/mean-median/"
   ]
  },
  {
   "cell_type": "code",
   "execution_count": 73,
   "metadata": {},
   "outputs": [
    {
     "data": {
      "text/plain": [
       "season_name\n",
       "fall       898\n",
       "string     823\n",
       "summer    1214\n",
       "winter     632\n",
       "Name: cnt, dtype: int64"
      ]
     },
     "execution_count": 73,
     "metadata": {},
     "output_type": "execute_result"
    }
   ],
   "source": [
    "bikes.groupby([\"season_name\"])[\"cnt\"].median()"
   ]
  },
  {
   "cell_type": "code",
   "execution_count": null,
   "metadata": {},
   "outputs": [],
   "source": [
    "# To answer the questions: there seems to be evidence that the number of shared bikes per hour is the highest during the summer, which is also the warmest month (on average) (see the following cell). There seems to be no\n",
    "# large difference between the number of shared bikes per hour in Spring and Fall. During winter people seem to use less rental bikes "
   ]
  },
  {
   "cell_type": "code",
   "execution_count": 75,
   "metadata": {},
   "outputs": [
    {
     "data": {
      "text/plain": [
       "season_name\n",
       "fall      13.0\n",
       "string    10.0\n",
       "summer    18.0\n",
       "winter     7.5\n",
       "Name: t1, dtype: float64"
      ]
     },
     "execution_count": 75,
     "metadata": {},
     "output_type": "execute_result"
    }
   ],
   "source": [
    "bikes.groupby([\"season_name\"])[\"t1\"].median()"
   ]
  }
 ],
 "metadata": {
  "kernelspec": {
   "display_name": "Python 3",
   "language": "python",
   "name": "python3"
  },
  "language_info": {
   "codemirror_mode": {
    "name": "ipython",
    "version": 3
   },
   "file_extension": ".py",
   "mimetype": "text/x-python",
   "name": "python",
   "nbconvert_exporter": "python",
   "pygments_lexer": "ipython3",
   "version": "3.9.1"
  }
 },
 "nbformat": 4,
 "nbformat_minor": 4
}
