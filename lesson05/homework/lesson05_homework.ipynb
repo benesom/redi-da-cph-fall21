{
 "cells": [
  {
   "cell_type": "markdown",
   "id": "0128e7a1",
   "metadata": {},
   "source": [
    "# Lab experiment\n",
    "### You are a scientist who is working at Copenhagen University. Your research project is about identifying gases that reduce the global warming potential of greenhouse gases. In your most recent experiment you mixed two different gases. The chemical reaction made the temperature in the reaction tube vary over time, which was measured with 3 different thermometers. You're now back in your office and ready to analyse your data, which is available in a csv file\n",
    "\n",
    "### The exercise might seem like a lot, but don't worry. Most of the visualisation questions were already solved during the exercises session or you can find help in the lecture notebook. If you don't understand some questions or need help, please ask for help in the Slack channel or ping one of the teachers directly.\n",
    "\n",
    "### Hint: it might be a good idea to label each figure according to the equastions that you're solving. For example, a reasonable name for the figure in question c) could be figc. "
   ]
  },
  {
   "cell_type": "markdown",
   "id": "51ca1d8c",
   "metadata": {},
   "source": [
    "#### a) Import the dataset into a pandas DataFrame. Convert the time column into a pandas.Timestamp object. "
   ]
  },
  {
   "cell_type": "code",
   "execution_count": null,
   "id": "c753ee2b",
   "metadata": {},
   "outputs": [],
   "source": []
  },
  {
   "cell_type": "markdown",
   "id": "734b92ad",
   "metadata": {},
   "source": [
    "#### b) Inspect the dataset. Are there any missing values? If yes, how many are missing? Can you say anything more about the missing values?"
   ]
  },
  {
   "cell_type": "code",
   "execution_count": null,
   "id": "6e45e822",
   "metadata": {},
   "outputs": [],
   "source": []
  },
  {
   "cell_type": "markdown",
   "id": "45c5996d",
   "metadata": {},
   "source": [
    "#### c) Now visualise each of the 3 temperature signals.\n",
    "- First, you want to create a figure with 3 different axes instances, one axis instance for each temperature signal\n",
    "- Then you visualize each signal. Do you use a scatter or line plot? Try to justify your choice with a couple of words\n",
    "- Because you want to discuss your experiment with your colleagues, you also want to make the figure pretty. Label each of the axes with information that you consider important"
   ]
  },
  {
   "cell_type": "code",
   "execution_count": null,
   "id": "4c5999ba",
   "metadata": {},
   "outputs": [],
   "source": []
  },
  {
   "cell_type": "markdown",
   "id": "c6f9484f",
   "metadata": {},
   "source": [
    "#### d) Explain in your own words how the data looks like. Don't be too specific, try to \"explain\" the big picture in 2-3 sentences. HINT: don't focus only on the missing data"
   ]
  },
  {
   "cell_type": "code",
   "execution_count": null,
   "id": "46afa236",
   "metadata": {},
   "outputs": [],
   "source": []
  },
  {
   "cell_type": "markdown",
   "id": "a65684fb",
   "metadata": {},
   "source": [
    "#### e) Now create one figure with one axis element to visualise the temperature of signal 1 and 2 in one coordinate system. Don't forget to label your x- and y-axis"
   ]
  },
  {
   "cell_type": "code",
   "execution_count": null,
   "id": "32daa489",
   "metadata": {},
   "outputs": [],
   "source": []
  },
  {
   "cell_type": "markdown",
   "id": "5c837766",
   "metadata": {},
   "source": [
    "#### f) Describe in 1-2 sentences what you now see "
   ]
  },
  {
   "cell_type": "code",
   "execution_count": null,
   "id": "5221155c",
   "metadata": {},
   "outputs": [],
   "source": []
  },
  {
   "cell_type": "markdown",
   "id": "a3e1a1d2",
   "metadata": {},
   "source": [
    "#### g) Create another figure to use a scatter plot to visualize temperature signal 1 and 2"
   ]
  },
  {
   "cell_type": "code",
   "execution_count": null,
   "id": "2bf6bcbe",
   "metadata": {},
   "outputs": [],
   "source": []
  },
  {
   "cell_type": "markdown",
   "id": "6aa3f741",
   "metadata": {},
   "source": [
    "#### h) There seems to be a pattern. Try to describe it in 1-2 sentences"
   ]
  },
  {
   "cell_type": "code",
   "execution_count": null,
   "id": "58431a67",
   "metadata": {},
   "outputs": [],
   "source": []
  },
  {
   "cell_type": "markdown",
   "id": "a8aa44aa",
   "metadata": {},
   "source": [
    "#### i) What do you see if you plot the temperature of signal 1 against the temperature of signal 3. Use again a scatter plot and try to describe what you see"
   ]
  },
  {
   "cell_type": "code",
   "execution_count": null,
   "id": "16ffd142",
   "metadata": {},
   "outputs": [],
   "source": []
  },
  {
   "cell_type": "markdown",
   "id": "32f933e6",
   "metadata": {},
   "source": [
    "#### k) Visualize temperature signal 3 in a figure. Can you guess how the data was generated? Hint: have a look at https://mathworld.wolfram.com/Cosine.html "
   ]
  },
  {
   "cell_type": "code",
   "execution_count": null,
   "id": "17d65b95",
   "metadata": {},
   "outputs": [],
   "source": []
  },
  {
   "cell_type": "markdown",
   "id": "28167c5b",
   "metadata": {},
   "source": [
    "#### l) To make the guessing easier, you try to visualize the temperature signal 3 and your guess in the same figure\n",
    "Hints: \n",
    "- Use np.cos and/or np.sin and guess the intercept, amplitude and period \n",
    "- you must create a numpy.ndarray with exactly the same length as the dataframe of your experimental data  \n",
    "- be careful when you used the time column for the values on the x-axis. It could be a good idea to create a new pandas.DataFrame with the time column and your guess signal "
   ]
  },
  {
   "cell_type": "code",
   "execution_count": null,
   "id": "d9f91069",
   "metadata": {},
   "outputs": [],
   "source": []
  },
  {
   "cell_type": "markdown",
   "id": "9a4ef6b1",
   "metadata": {},
   "source": [
    "#### l) Next week you'll have a meeting with the laboratory supervisor. You're not happy that your dataset contains some missing values. You think that it could be related sensor malfunction. Because you know that the laboratory supervisor doesn't like plain numbers, you try to come up with a nice visualisation that shows the percentage of missing values for each of the 3 temperature signals. If you need some inspiration have a look at https://matplotlib.org/stable/gallery/index.html"
   ]
  },
  {
   "cell_type": "code",
   "execution_count": null,
   "id": "0a6899b4",
   "metadata": {},
   "outputs": [],
   "source": []
  },
  {
   "cell_type": "markdown",
   "id": "3623f731",
   "metadata": {},
   "source": [
    "#### m) The laboratory supervisor doesn't like looking at plots in jupyter notebooks. To improve the likelihood that she'll have a look to see if there's something wrong with the temperature sensors you'll plan to create a nice slide deck. For that you need to export your visualisation (figure) as a png/pdf file. Hint: have a look at https://matplotlib.org/stable/api/_as_gen/matplotlib.pyplot.savefig.html and save your figure as a png or pdf file. Make sure that you specify the path correctly and check if you're able to open the created file. Does the visualisation look good?"
   ]
  },
  {
   "cell_type": "code",
   "execution_count": null,
   "id": "9e5f5614",
   "metadata": {},
   "outputs": [],
   "source": []
  },
  {
   "cell_type": "markdown",
   "id": "83a3fe4f",
   "metadata": {},
   "source": [
    "#### Bonus question: what would you do about the missing values of temperature signal 3? Are there any reasonable approaches to fill in values for missing timestamps? "
   ]
  }
 ],
 "metadata": {
  "kernelspec": {
   "display_name": "Python 3",
   "language": "python",
   "name": "python3"
  },
  "language_info": {
   "codemirror_mode": {
    "name": "ipython",
    "version": 3
   },
   "file_extension": ".py",
   "mimetype": "text/x-python",
   "name": "python",
   "nbconvert_exporter": "python",
   "pygments_lexer": "ipython3",
   "version": "3.9.1"
  }
 },
 "nbformat": 4,
 "nbformat_minor": 5
}
